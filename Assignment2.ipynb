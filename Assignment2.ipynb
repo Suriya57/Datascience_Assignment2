{
 "cells": [
  {
   "cell_type": "code",
   "execution_count": 3,
   "metadata": {},
   "outputs": [
    {
     "name": "stdout",
     "output_type": "stream",
     "text": [
      "Enter the numbers : 1,2,3,4,5,6\n",
      "['1', '2', '3', '4', '5', '6']\n"
     ]
    }
   ],
   "source": [
    "# Program to get the list of numbers and print them as a comma separated list\n",
    "Numbers=input(\"Enter the numbers : \")\n",
    "Number_list=Numbers.split(',')\n",
    "# Split function in turn returns the output in a list format\n",
    "print(Number_list)"
   ]
  },
  {
   "cell_type": "code",
   "execution_count": 11,
   "metadata": {},
   "outputs": [
    {
     "name": "stdout",
     "output_type": "stream",
     "text": [
      "*  \n",
      "\n",
      "* *  \n",
      "\n",
      "* * *  \n",
      "\n",
      "* * * *  \n",
      "\n",
      "* * * * *  \n",
      "\n",
      "* * * * * *  \n",
      "\n",
      "* * * * *  \n",
      "\n",
      "* * * *  \n",
      "\n",
      "* * *  \n",
      "\n",
      "* *  \n",
      "\n",
      "*  \n",
      "\n"
     ]
    }
   ],
   "source": [
    "# Program to print pattern\t\n",
    "limit = 5\n",
    "# Range function to start from 5 and end till 0 using reverse traversal\n",
    "for g in range(limit,0,-1):\n",
    "\t# E.g.., 6-5 = 1 So one star will be printed and so on\n",
    "    print((limit+1-g)* '* ','\\n')\n",
    "\n",
    "# Range function to start from 5 and end till 0 using forward traversal\n",
    "for g in range(0,limit+1,1):\n",
    "\t# Vice versa of the previous for loop\n",
    "    print((limit+1-g)* '* ','\\n')"
   ]
  },
  {
   "cell_type": "code",
   "execution_count": 13,
   "metadata": {},
   "outputs": [
    {
     "name": "stdout",
     "output_type": "stream",
     "text": [
      "Enter the string to be reversed : Acadgild\n",
      "dligdacA\n"
     ]
    }
   ],
   "source": [
    "# Program to reverse the given string from the user\n",
    "String = input('Enter the string to be reversed : ')\n",
    "# The [::-1] traverses the string backwards\n",
    "Reversal_String = String[::-1]\n",
    "print(Reversal_String)"
   ]
  },
  {
   "cell_type": "code",
   "execution_count": 17,
   "metadata": {},
   "outputs": [
    {
     "name": "stdout",
     "output_type": "stream",
     "text": [
      "WE, THE PEOPLE OF INDIA,\n",
      "\thaving solemnly resolved to constitute India into a SOVEREIGN, !\n",
      "\t\tSOCIALIST, SECULAR, DEMOCRATIC REPUBLIC\n",
      "\t\t and to secure to all its citizens\n"
     ]
    }
   ],
   "source": [
    "# Print statement using line feed and tab\n",
    "print('WE, THE PEOPLE OF INDIA,\\n\\thaving solemnly resolved to constitute India into a SOVEREIGN, !\\n\\t\\tSOCIALIST, SECULAR, DEMOCRATIC REPUBLIC\\n\\t\\t and to secure to all its citizens')"
   ]
  }
 ],
 "metadata": {
  "kernelspec": {
   "display_name": "Python 3",
   "language": "python",
   "name": "python3"
  },
  "language_info": {
   "codemirror_mode": {
    "name": "ipython",
    "version": 3
   },
   "file_extension": ".py",
   "mimetype": "text/x-python",
   "name": "python",
   "nbconvert_exporter": "python",
   "pygments_lexer": "ipython3",
   "version": "3.6.1"
  }
 },
 "nbformat": 4,
 "nbformat_minor": 2
}
